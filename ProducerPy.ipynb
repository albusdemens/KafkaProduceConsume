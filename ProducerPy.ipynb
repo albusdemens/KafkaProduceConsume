{
 "cells": [
  {
   "cell_type": "markdown",
   "metadata": {},
   "source": [
    "# ProducerPy "
   ]
  },
  {
   "cell_type": "markdown",
   "metadata": {},
   "source": [
    "#### Alberto Cereser, [alberto.cereser@gmail.com](alberto.cereser@gmail.com)"
   ]
  },
  {
   "cell_type": "markdown",
   "metadata": {},
   "source": [
    "This script loads the json file and send each line as a message using Kafka."
   ]
  },
  {
   "cell_type": "markdown",
   "metadata": {},
   "source": [
    "### Add dependencies"
   ]
  },
  {
   "cell_type": "code",
   "execution_count": 1,
   "metadata": {
    "collapsed": true
   },
   "outputs": [],
   "source": [
    "import os\n",
    "os.environ['PYSPARK_SUBMIT_ARGS'] = '--conf spark.ui.port=4041 --packages org.apache.kafka:kafka_2.11:0.10.0.0,org.apache.kafka:kafka-clients:0.10.0.0  pyspark-shell'"
   ]
  },
  {
   "cell_type": "markdown",
   "metadata": {},
   "source": [
    "### Load modules"
   ]
  },
  {
   "cell_type": "code",
   "execution_count": 2,
   "metadata": {
    "collapsed": true
   },
   "outputs": [],
   "source": [
    "from kafka import KafkaProducer\n",
    "import json\n",
    "from random import randint\n",
    "import time\n",
    "from time import sleep"
   ]
  },
  {
   "cell_type": "markdown",
   "metadata": {},
   "source": [
    "### Set up the communication details"
   ]
  },
  {
   "cell_type": "markdown",
   "metadata": {},
   "source": [
    "To avoid sending the same message multiple times, we declare a new topic every time"
   ]
  },
  {
   "cell_type": "code",
   "execution_count": 3,
   "metadata": {
    "collapsed": true
   },
   "outputs": [],
   "source": [
    "def new_topic():\n",
    "    timestr = time.strftime(\"%H%M%S\")\n",
    "    topicName = 'json_data' + timestr\n",
    "    print 'Topic name: %s' % topicName\n",
    "    return topicName"
   ]
  },
  {
   "cell_type": "code",
   "execution_count": 4,
   "metadata": {},
   "outputs": [
    {
     "name": "stdout",
     "output_type": "stream",
     "text": [
      "Topic name: json_data154226\n",
      "Stored 'topicName' (str)\n"
     ]
    }
   ],
   "source": [
    "topicName = new_topic()\n",
    "bootstrap_servers = ['localhost:9092']\n",
    "\n",
    "%store topicName    # Name stored so it can be passed to the consumer"
   ]
  },
  {
   "cell_type": "markdown",
   "metadata": {},
   "source": [
    "### Send messages"
   ]
  },
  {
   "cell_type": "markdown",
   "metadata": {
    "collapsed": true
   },
   "source": [
    "Each line of the JSON file is sent as a message to the jmessage topic. To simulate real data streaming, messages are sent at random intervals. "
   ]
  },
  {
   "cell_type": "code",
   "execution_count": 5,
   "metadata": {},
   "outputs": [
    {
     "name": "stdout",
     "output_type": "stream",
     "text": [
      "Sent message 0\n",
      "Sent message 10\n",
      "Sent message 20\n",
      "Sent message 30\n",
      "Sent message 40\n",
      "Sent message 50\n",
      "Sent message 60\n",
      "Sent message 70\n",
      "Sent message 80\n",
      "Sent message 90\n",
      "Sent message 100\n",
      "Sent message 110\n",
      "Sent message 120\n",
      "Sent message 130\n",
      "Sent message 140\n",
      "Sent message 150\n",
      "Sent message 160\n",
      "Sent message 170\n",
      "Sent message 180\n",
      "Sent message 190\n",
      "Sent message 200\n",
      "Sent message 210\n",
      "Sent message 220\n",
      "Sent message 230\n",
      "Sent message 240\n",
      "Sent message 250\n",
      "Sent message 260\n",
      "Sent message 270\n",
      "Sent message 280\n",
      "Sent message 290\n",
      "Sent message 300\n",
      "Sent message 310\n",
      "Sent message 320\n",
      "Sent message 330\n",
      "Sent message 340\n",
      "Sent message 350\n",
      "Sent message 360\n",
      "Sent message 370\n",
      "Sent message 380\n",
      "Sent message 390\n",
      "Sent message 400\n",
      "Sent message 410\n",
      "Sent message 420\n",
      "Sent message 430\n",
      "Sent message 440\n",
      "Sent message 450\n",
      "Sent message 460\n",
      "Sent message 470\n",
      "Sent message 480\n",
      "Sent message 490\n",
      "Sent message 500\n",
      "Sent message 510\n",
      "Sent message 520\n",
      "Sent message 530\n",
      "Sent message 540\n",
      "Sent message 550\n",
      "Sent message 560\n",
      "Sent message 570\n",
      "Sent message 580\n",
      "Sent message 590\n",
      "Sent message 600\n",
      "Sent message 610\n",
      "Sent message 620\n",
      "Sent message 630\n",
      "Sent message 640\n",
      "Sent message 650\n",
      "Sent message 660\n",
      "Sent message 670\n",
      "Sent message 680\n",
      "Sent message 690\n",
      "Sent message 700\n",
      "Sent message 710\n",
      "Sent message 720\n",
      "Sent message 730\n",
      "Sent message 740\n",
      "Sent message 750\n",
      "Sent message 760\n",
      "Sent message 770\n",
      "Sent message 780\n",
      "Sent message 790\n",
      "Sent message 800\n",
      "Sent message 810\n",
      "Sent message 820\n",
      "Sent message 830\n",
      "Sent message 840\n",
      "Sent message 850\n",
      "Sent message 860\n",
      "Sent message 870\n",
      "Sent message 880\n",
      "Sent message 890\n",
      "Sent message 900\n",
      "Sent message 910\n",
      "Sent message 920\n",
      "Sent message 930\n",
      "Sent message 940\n",
      "Sent message 950\n",
      "Sent message 960\n",
      "Sent message 970\n",
      "Sent message 980\n",
      "Sent message 990\n"
     ]
    }
   ],
   "source": [
    "producer = KafkaProducer(value_serializer=lambda v:json.dumps(v).encode('utf-8'),\n",
    "                        bootstrap_servers=bootstrap_servers)\n",
    "    \n",
    "with open(\"file.json\", \"r\") as f:\n",
    "    data_as_json = json.load(f)\n",
    "\n",
    "# Send each entry of the json file as a message\n",
    "for i in range(len(data_as_json)):\n",
    "#for i in range(100):\n",
    "    producer.send(topicName, data_as_json[i])\n",
    "    \n",
    "    if i%10 == 0:\n",
    "        print \"Sent message\", i\n",
    "    \n",
    "    # Let's simulate data streaming\n",
    "    sleep(randint(1,100)*0.01)"
   ]
  },
  {
   "cell_type": "code",
   "execution_count": null,
   "metadata": {
    "collapsed": true
   },
   "outputs": [],
   "source": [
    " "
   ]
  }
 ],
 "metadata": {
  "kernelspec": {
   "display_name": "Python 2",
   "language": "python",
   "name": "python2"
  },
  "language_info": {
   "codemirror_mode": {
    "name": "ipython",
    "version": 2
   },
   "file_extension": ".py",
   "mimetype": "text/x-python",
   "name": "python",
   "nbconvert_exporter": "python",
   "pygments_lexer": "ipython2",
   "version": "2.7.10"
  }
 },
 "nbformat": 4,
 "nbformat_minor": 2
}
